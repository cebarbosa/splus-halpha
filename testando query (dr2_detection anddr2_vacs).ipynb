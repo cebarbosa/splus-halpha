{
 "cells": [
  {
   "cell_type": "code",
   "execution_count": 1,
   "metadata": {},
   "outputs": [],
   "source": [
    "import os\n",
    "import getpass\n",
    "\n",
    "import numpy as np\n",
    "import splusdata \n",
    "import pandas as pd\n",
    "from astropy.table import Table\n",
    "import astropy.units as u\n",
    "\n",
    "import context"
   ]
  },
  {
   "cell_type": "code",
   "execution_count": 2,
   "metadata": {},
   "outputs": [
    {
     "name": "stdout",
     "output_type": "stream",
     "text": [
      "········\n"
     ]
    }
   ],
   "source": [
    "login = \"jessica\"\n",
    "password = getpass.getpass()"
   ]
  },
  {
   "cell_type": "code",
   "execution_count": 3,
   "metadata": {},
   "outputs": [],
   "source": [
    "conn = splusdata.connect(login, password)"
   ]
  },
  {
   "cell_type": "code",
   "execution_count": 4,
   "metadata": {},
   "outputs": [],
   "source": [
    "My_Query = f\"\"\"SELECT det.ID, det.ra, det.dec, sgq.PROB_STAR\n",
    "               FROM dr2.detection_image as det\n",
    "               JOIN dr2_vacs.star_galaxy_quasar as sgq ON (sgq.ID = det.ID)\n",
    "               WHERE sgq.PROB_STAR>0.8\"\"\""
   ]
  },
  {
   "cell_type": "code",
   "execution_count": 5,
   "metadata": {},
   "outputs": [
    {
     "name": "stdout",
     "output_type": "stream",
     "text": [
      "finished\n"
     ]
    }
   ],
   "source": [
    "Result = conn.query(My_Query)"
   ]
  },
  {
   "cell_type": "code",
   "execution_count": 6,
   "metadata": {},
   "outputs": [
    {
     "data": {
      "text/html": [
       "<i>Table length=5</i>\n",
       "<table id=\"table2333964252592\" class=\"table-striped table-bordered table-condensed\">\n",
       "<thead><tr><th>ID</th><th>RA</th><th>DEC</th><th>PROB_STAR</th></tr></thead>\n",
       "<thead><tr><th>bytes24</th><th>float64</th><th>float64</th><th>float64</th></tr></thead>\n",
       "<tr><td>DR2.SPLUS-s02s01.067560</td><td>324.9769963676468</td><td>-0.8284107871826184</td><td>1.0</td></tr>\n",
       "<tr><td>DR2.SPLUS-s02s01.034029</td><td>324.92221866255494</td><td>-1.3781302021139012</td><td>1.0</td></tr>\n",
       "<tr><td>DR2.SPLUS-s02s01.034884</td><td>324.780309808846</td><td>-1.3605479533955114</td><td>0.9</td></tr>\n",
       "<tr><td>DR2.SPLUS-s02s01.038679</td><td>324.0435487994416</td><td>-1.2837548124513534</td><td>1.0</td></tr>\n",
       "<tr><td>DR2.SPLUS-s02s01.038779</td><td>325.04210595071214</td><td>-1.2834814871850828</td><td>1.0</td></tr>\n",
       "</table>"
      ],
      "text/plain": [
       "<Table length=5>\n",
       "           ID                    RA                 DEC         PROB_STAR\n",
       "        bytes24               float64             float64        float64 \n",
       "------------------------ ------------------ ------------------- ---------\n",
       "DR2.SPLUS-s02s01.067560   324.9769963676468 -0.8284107871826184       1.0\n",
       "DR2.SPLUS-s02s01.034029  324.92221866255494 -1.3781302021139012       1.0\n",
       "DR2.SPLUS-s02s01.034884    324.780309808846 -1.3605479533955114       0.9\n",
       "DR2.SPLUS-s02s01.038679   324.0435487994416 -1.2837548124513534       1.0\n",
       "DR2.SPLUS-s02s01.038779  325.04210595071214 -1.2834814871850828       1.0"
      ]
     },
     "execution_count": 6,
     "metadata": {},
     "output_type": "execute_result"
    }
   ],
   "source": [
    "Result[:5]"
   ]
  },
  {
   "cell_type": "code",
   "execution_count": 15,
   "metadata": {},
   "outputs": [
    {
     "name": "stdout",
     "output_type": "stream",
     "text": [
      "finished\n"
     ]
    }
   ],
   "source": [
    "tablename = os.path.join('C:/Users/amori/Dropbox/splus-halpha (1)/tables/Literature_new_phot_structural_parameters_8arcsec_class_star.fits')\n",
    "tab = Table.read(tablename)\n",
    "\n",
    "aperture = 'aper_6'\n",
    "ps = 0.55 * u.arcsec / u.pix\n",
    "size = 256 * u.pix\n",
    "r = np.sqrt(2) * size * ps # arcsec\n",
    "r = r.to(u.degree).value\n",
    "\n",
    "for i, t in enumerate(tab):\n",
    "    ra0 = t[\"ALPHA_J2000\"]\n",
    "    dec0 = t[\"DELTA_J2000\"]\n",
    "table = conn.query(f\"\"\"SELECT det.ID, det.ra, det.dec\n",
    "               FROM dr2.detection_image as det \n",
    "               WHERE 1 = CONTAINS( POINT('ICRS', det.ra, det.dec), CIRCLE('ICRS', {ra0}, {dec0}, {r}) )\"\"\")"
   ]
  },
  {
   "cell_type": "code",
   "execution_count": 17,
   "metadata": {},
   "outputs": [
    {
     "name": "stdout",
     "output_type": "stream",
     "text": [
      "finished\n"
     ]
    }
   ],
   "source": [
    "result_table = conn.query(f\"\"\"SELECT det.ID, det.ra, det.dec \n",
    "                              FROM dr2.detection_image AS det  \n",
    "                              JOIN dr2_vacs.star_galaxy_quasar as sgq ON (sgq.ID = det.ID)\n",
    "                              WHERE (sgq.PROB_STAR>0.8) AND 1=CONTAINS( POINT('ICRS', det.ra, det.dec), CIRCLE('ICRS', {ra0}, {dec0}, {r}) )\"\"\")"
   ]
  },
  {
   "cell_type": "code",
   "execution_count": 18,
   "metadata": {},
   "outputs": [],
   "source": [
    "res = conn.get_last_result()"
   ]
  },
  {
   "cell_type": "code",
   "execution_count": 19,
   "metadata": {},
   "outputs": [
    {
     "data": {
      "text/html": [
       "<i>Table length=0</i>\n",
       "<table id=\"table2333864805472\" class=\"table-striped table-bordered table-condensed\">\n",
       "<thead><tr><th>ID</th><th>RA</th><th>DEC</th></tr></thead>\n",
       "<thead><tr><th>bytes1</th><th>float64</th><th>float64</th></tr></thead>\n",
       "</table>"
      ],
      "text/plain": [
       "<Table length=0>\n",
       "  ID      RA     DEC  \n",
       "bytes1 float64 float64\n",
       "------ ------- -------"
      ]
     },
     "execution_count": 19,
     "metadata": {},
     "output_type": "execute_result"
    }
   ],
   "source": [
    "res"
   ]
  },
  {
   "cell_type": "code",
   "execution_count": null,
   "metadata": {},
   "outputs": [],
   "source": []
  }
 ],
 "metadata": {
  "kernelspec": {
   "display_name": "Python 3",
   "language": "python",
   "name": "python3"
  },
  "language_info": {
   "codemirror_mode": {
    "name": "ipython",
    "version": 3
   },
   "file_extension": ".py",
   "mimetype": "text/x-python",
   "name": "python",
   "nbconvert_exporter": "python",
   "pygments_lexer": "ipython3",
   "version": "3.8.5"
  }
 },
 "nbformat": 4,
 "nbformat_minor": 4
}
