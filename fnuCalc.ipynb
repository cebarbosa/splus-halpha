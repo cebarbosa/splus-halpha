{
 "cells": [
  {
   "cell_type": "code",
   "execution_count": 1,
   "metadata": {},
   "outputs": [],
   "source": [
    "from astropy.io import fits\n",
    "import glob, os, sys"
   ]
  },
  {
   "cell_type": "code",
   "execution_count": 2,
   "metadata": {},
   "outputs": [
    {
     "name": "stdout",
     "output_type": "stream",
     "text": [
      "3 IMAGENS\n",
      "[MAGZP] ENCONTRADO!\n",
      "3 IMAGENS\n",
      "[MAGZP] ENCONTRADO!\n",
      "3 IMAGENS\n",
      "[MAGZP] ENCONTRADO!\n",
      "3 IMAGENS\n",
      "[MAGZP] ENCONTRADO!\n"
     ]
    }
   ],
   "source": [
    "path = [\"D:/Jessica/splus-halpha (1)/data/11HUGS/cutouts/UGCA193\",\n",
    "       \"D:/Jessica/splus-halpha (1)/data/11HUGS/cutouts/ESO302-G014\",\n",
    "       \"D:/Jessica/splus-halpha (1)/data/11HUGS/cutouts/NGC3115\",\n",
    "       \"D:/Jessica/splus-halpha (1)/data/11HUGS/cutouts/SextansA\"] \n",
    "\n",
    "for x in range(len(path)):\n",
    "    \n",
    "    os.chdir(path[x])\n",
    "    \n",
    "    #criação de variáveis\n",
    "    result = []\n",
    "    hAlphaFlux = []\n",
    "    bands = ['_F660_','_I_','_R_']\n",
    "    i = 0\n",
    "    \n",
    "    for file in glob.glob(\"*_swp.fits\"):\n",
    "        \n",
    "        for i in range(len(bands)):\n",
    "            if bands[i] in file: #se o nome das bandas existirem no nome dos arquivos .fits\n",
    "                mainOutput = sys.stdout\n",
    "        \n",
    "                fileName = \"FILENAME  =  \" + file\n",
    "                openFile = fits.open(file)\n",
    "                header = openFile[1].header\n",
    "                header = str(header)\n",
    "                result.append(fileName + \"                 \" + header)\n",
    "        \n",
    "    \n",
    "    for i in range(len(result)):\n",
    "        \n",
    "        \n",
    "        fileName2 = str(result[i])\n",
    "        fileName2.strip()\n",
    "        fileName2 = fileName2.split('FILENAME')[1]\n",
    "        fileName2 = fileName2.replace(\" \", \"\")\n",
    "        fileName2 = fileName2.split('=')[1]\n",
    "        fileName2 = fileName2.split('.fits', 1)[0]\n",
    "        \n",
    "        \n",
    "        magZP = str(result[i])\n",
    "        magZP.strip()\n",
    "        magZP = magZP.split('MAGZP')[1]\n",
    "        magZP = magZP.replace(\" \", \"\")\n",
    "        magZP = magZP.split('=')[1]\n",
    "        magZP = magZP.split('/', 1)[0]\n",
    "        magZP = float(magZP)\n",
    "        fnu = pow(10, -0.4 * (magZP + 48.6))\n",
    "        \n",
    "        \n",
    "        hAlphaFlux.append(\"FILENAME  =  \" + fileName2 + \".fits                 \" + \"MAGZP  =  \" + str(magZP) + \"                 F_NU  =  \" + str(fnu) )\n",
    "        \n",
    "        \n",
    "        sys.stdout = outputFile = open(\"resultado_geral.txt\", \"w+\") #altera as saídas para um arquivo de texto no diretório atual\n",
    "        print (hAlphaFlux) #escreve os resultados no diretório atual\n",
    "        outputFile.close() #fecha a conexão do arquivo gerado\n",
    "        \n",
    "        sys.stdout = mainOutput #altera a saída do Python para a saída principal (console)\n",
    "        \n",
    "    print(str(len(result)) + \" IMAGENS\") #exibe a quantidade de itens (imagens) dentro da minha lista\n",
    "    \n",
    "    with open('resultado_geral.txt') as f: #abre o arquivo resultado geral\n",
    "        if 'MAGZP' in f.read(): #procura pela tag MAGZP\n",
    "            print(\"[MAGZP] ENCONTRADO!\") #se MAGZP existir, retorna esta mensagem\n",
    "        else:\n",
    "            print(\"[MAGZP] NÃO ENCONTRADO!\") #se MAGZP não existir, retorna esta mensagem\n",
    "    \n",
    "    "
   ]
  },
  {
   "cell_type": "markdown",
   "metadata": {},
   "source": []
  }
 ],
 "metadata": {
  "kernelspec": {
   "display_name": "Python 3",
   "language": "python",
   "name": "python3"
  },
  "language_info": {
   "codemirror_mode": {
    "name": "ipython",
    "version": 3
   },
   "file_extension": ".py",
   "mimetype": "text/x-python",
   "name": "python",
   "nbconvert_exporter": "python",
   "pygments_lexer": "ipython3",
   "version": "3.9.1"
  }
 },
 "nbformat": 4,
 "nbformat_minor": 4
}
