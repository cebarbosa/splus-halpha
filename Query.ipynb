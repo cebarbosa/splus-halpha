{
 "cells": [
  {
   "cell_type": "code",
   "execution_count": 10,
   "metadata": {},
   "outputs": [],
   "source": [
    "import os\n",
    "import getpass\n",
    "\n",
    "import numpy as np\n",
    "import splusdata \n",
    "import pandas as pd\n",
    "from astropy.table import Table\n",
    "import astropy.units as u\n",
    "\n",
    "import context"
   ]
  },
  {
   "cell_type": "code",
   "execution_count": 11,
   "metadata": {},
   "outputs": [
    {
     "name": "stdout",
     "output_type": "stream",
     "text": [
      "········\n"
     ]
    }
   ],
   "source": [
    "login = \"jessica\"\n",
    "password = getpass.getpass()"
   ]
  },
  {
   "cell_type": "code",
   "execution_count": 12,
   "metadata": {},
   "outputs": [],
   "source": [
    "conn = splusdata.connect(login, password)"
   ]
  },
  {
   "cell_type": "code",
   "execution_count": 7,
   "metadata": {},
   "outputs": [
    {
     "ename": "NameError",
     "evalue": "name 'context' is not defined",
     "output_type": "error",
     "traceback": [
      "\u001b[1;31m---------------------------------------------------------------------------\u001b[0m",
      "\u001b[1;31mNameError\u001b[0m                                 Traceback (most recent call last)",
      "\u001b[1;32m<ipython-input-7-c20e584d3bf9>\u001b[0m in \u001b[0;36m<module>\u001b[1;34m\u001b[0m\n\u001b[0;32m      4\u001b[0m \u001b[0mr\u001b[0m \u001b[1;33m=\u001b[0m \u001b[0mr\u001b[0m\u001b[1;33m.\u001b[0m\u001b[0mto\u001b[0m\u001b[1;33m(\u001b[0m\u001b[0mu\u001b[0m\u001b[1;33m.\u001b[0m\u001b[0mdegree\u001b[0m\u001b[1;33m)\u001b[0m\u001b[1;33m\u001b[0m\u001b[1;33m\u001b[0m\u001b[0m\n\u001b[0;32m      5\u001b[0m \u001b[1;33m\u001b[0m\u001b[0m\n\u001b[1;32m----> 6\u001b[1;33m tablename = os.path.join(context.home_dir,\n\u001b[0m\u001b[0;32m      7\u001b[0m                      \"tables/Literature_new_phot_structural_parameters_8arcsec_class_star.fits\")\n\u001b[0;32m      8\u001b[0m \u001b[0mtable\u001b[0m \u001b[1;33m=\u001b[0m \u001b[0mTable\u001b[0m\u001b[1;33m.\u001b[0m\u001b[0mread\u001b[0m\u001b[1;33m(\u001b[0m\u001b[0mtablename\u001b[0m\u001b[1;33m)\u001b[0m\u001b[1;33m\u001b[0m\u001b[1;33m\u001b[0m\u001b[0m\n",
      "\u001b[1;31mNameError\u001b[0m: name 'context' is not defined"
     ]
    }
   ],
   "source": [
    "ps = 0.55 * u.arcsec / u.pix\n",
    "size = 256 * u.pix\n",
    "r = np.sqrt(2) * size * ps # arcsec\n",
    "r = r.to(u.degree)\n",
    "\n",
    "tablename = os.path.join(context.home_dir,\n",
    "                     \"tables/Literature_new_phot_structural_parameters_8arcsec_class_star.fits\")\n",
    "table = Table.read(tablename)\n",
    "for i, t in enumerate(table):\n",
    "    ra0 = t[\"ALPHA_J2000\"]\n",
    "    dec0 = t[\"DELTA_J2000\"]\n",
    "    qtable = conn.query(f\"\"\"SELECT det.id, det.ra, det.dec \n",
    "                            FROM dr2.detection_image as det \n",
    "                            JOIN dr2_vacs.star_galaxy_quasar as sgq ON (sgq.ID = det.ID)\n",
    "                            WHERE (sgq.PROB_STAR>0.8) \n",
    "                            AND 1=CONTAINS( POINT('ICRS', det.ra, det.dec), CIRCLE('ICRS', {ra0}, {dec0}, {r.to(u.degree).value}) )\"\"\")"
   ]
  },
  {
   "cell_type": "code",
   "execution_count": 6,
   "metadata": {},
   "outputs": [
    {
     "data": {
      "text/html": [
       "<i>Table length=0</i>\n",
       "<table id=\"table1599822414752\" class=\"table-striped table-bordered table-condensed\">\n",
       "<thead><tr><th>ID</th><th>RA</th><th>DEC</th></tr></thead>\n",
       "<thead><tr><th>bytes1</th><th>float64</th><th>float64</th></tr></thead>\n",
       "</table>"
      ],
      "text/plain": [
       "<Table length=0>\n",
       "  ID      RA     DEC  \n",
       "bytes1 float64 float64\n",
       "------ ------- -------"
      ]
     },
     "execution_count": 6,
     "metadata": {},
     "output_type": "execute_result"
    }
   ],
   "source": [
    "Result = conn.query(qtable)"
   ]
  },
  {
   "cell_type": "code",
   "execution_count": 62,
   "metadata": {},
   "outputs": [],
   "source": [
    "#tab = pd.read_csv('C:/Users/amori/Dropbox/splus-halpha (1)/tables/Fornax_Sample_3arcsec_pz_zs_class_xmatch.csv')"
   ]
  },
  {
   "cell_type": "markdown",
   "metadata": {},
   "source": [
    "result_table = conn.query(\"\"\"SELECT pz.ID, pz.zml, upl.ra, upl.dec \n",
    "                          upl.catalogue FROM TAP_UPLOAD.upload AS upl \n",
    "                          LEFT OUTER JOIN \"dr2_vacs\".\"photoz\" AS pz ON upl.id = pz.id\"\"\", tab)\n",
    "                         "
   ]
  },
  {
   "cell_type": "code",
   "execution_count": 63,
   "metadata": {},
   "outputs": [],
   "source": [
    "#res = conn.get_last_result()"
   ]
  },
  {
   "cell_type": "code",
   "execution_count": 71,
   "metadata": {},
   "outputs": [
    {
     "data": {
      "text/html": [
       "<i>Table length=500000</i>\n",
       "<table id=\"table2915110959568\" class=\"table-striped table-bordered table-condensed\">\n",
       "<thead><tr><th>ID</th><th>RA</th><th>DEC</th></tr></thead>\n",
       "<thead><tr><th>bytes24</th><th>float64</th><th>float64</th></tr></thead>\n",
       "<tr><td>DR2.STRIPE82-0091.093504</td><td>303.35531014175706</td><td>-0.3935554356873774</td></tr>\n",
       "<tr><td>DR2.STRIPE82-0091.093505</td><td>303.7534669444211</td><td>-0.39357828307352677</td></tr>\n",
       "<tr><td>DR2.STRIPE82-0091.093506</td><td>303.6059700363377</td><td>-0.3936266543436353</td></tr>\n",
       "<tr><td>DR2.STRIPE82-0091.093507</td><td>303.2634363980325</td><td>-0.39355295501563686</td></tr>\n",
       "<tr><td>DR2.STRIPE82-0091.093508</td><td>303.0625233172216</td><td>-0.3940974270590941</td></tr>\n",
       "<tr><td>DR2.STRIPE82-0091.093509</td><td>303.42295020403196</td><td>-0.39351335978127516</td></tr>\n",
       "<tr><td>DR2.STRIPE82-0091.093510</td><td>303.20549281954806</td><td>-0.3935284954064933</td></tr>\n",
       "<tr><td>DR2.STRIPE82-0091.093511</td><td>303.91266995753483</td><td>-0.39350409915671153</td></tr>\n",
       "<tr><td>DR2.STRIPE82-0091.093512</td><td>302.8934982879556</td><td>-0.39349746382876316</td></tr>\n",
       "<tr><td>DR2.STRIPE82-0091.093513</td><td>302.6327175384185</td><td>-0.39348468936720604</td></tr>\n",
       "<tr><td>...</td><td>...</td><td>...</td></tr>\n",
       "<tr><td>DR2.STRIPE82-0113.055429</td><td>319.2813010952531</td><td>-0.3628436949080786</td></tr>\n",
       "<tr><td>DR2.STRIPE82-0113.055430</td><td>319.0371981686546</td><td>-0.36285321665738635</td></tr>\n",
       "<tr><td>DR2.STRIPE82-0113.055431</td><td>318.99821190397546</td><td>-0.3628509936603487</td></tr>\n",
       "<tr><td>DR2.STRIPE82-0113.055432</td><td>318.11588955191843</td><td>-0.3628107562880178</td></tr>\n",
       "<tr><td>DR2.STRIPE82-0113.055433</td><td>318.29820257209593</td><td>-0.3629528857590011</td></tr>\n",
       "<tr><td>DR2.STRIPE82-0113.055434</td><td>318.31742839669533</td><td>-0.3626548007545788</td></tr>\n",
       "<tr><td>DR2.STRIPE82-0113.055435</td><td>318.21969627358584</td><td>-0.365240189545556</td></tr>\n",
       "<tr><td>DR2.STRIPE82-0113.055436</td><td>318.1575017905793</td><td>-0.3679802447775917</td></tr>\n",
       "<tr><td>DR2.STRIPE82-0113.055437</td><td>319.11935711399275</td><td>-0.3627165752261854</td></tr>\n",
       "<tr><td>DR2.STRIPE82-0113.055438</td><td>318.3461767424216</td><td>-0.36276942094172476</td></tr>\n",
       "</table>"
      ],
      "text/plain": [
       "<Table length=500000>\n",
       "           ID                    RA                 DEC         \n",
       "        bytes24               float64             float64       \n",
       "------------------------ ------------------ --------------------\n",
       "DR2.STRIPE82-0091.093504 303.35531014175706  -0.3935554356873774\n",
       "DR2.STRIPE82-0091.093505  303.7534669444211 -0.39357828307352677\n",
       "DR2.STRIPE82-0091.093506  303.6059700363377  -0.3936266543436353\n",
       "DR2.STRIPE82-0091.093507  303.2634363980325 -0.39355295501563686\n",
       "DR2.STRIPE82-0091.093508  303.0625233172216  -0.3940974270590941\n",
       "DR2.STRIPE82-0091.093509 303.42295020403196 -0.39351335978127516\n",
       "DR2.STRIPE82-0091.093510 303.20549281954806  -0.3935284954064933\n",
       "DR2.STRIPE82-0091.093511 303.91266995753483 -0.39350409915671153\n",
       "DR2.STRIPE82-0091.093512  302.8934982879556 -0.39349746382876316\n",
       "DR2.STRIPE82-0091.093513  302.6327175384185 -0.39348468936720604\n",
       "                     ...                ...                  ...\n",
       "DR2.STRIPE82-0113.055429  319.2813010952531  -0.3628436949080786\n",
       "DR2.STRIPE82-0113.055430  319.0371981686546 -0.36285321665738635\n",
       "DR2.STRIPE82-0113.055431 318.99821190397546  -0.3628509936603487\n",
       "DR2.STRIPE82-0113.055432 318.11588955191843  -0.3628107562880178\n",
       "DR2.STRIPE82-0113.055433 318.29820257209593  -0.3629528857590011\n",
       "DR2.STRIPE82-0113.055434 318.31742839669533  -0.3626548007545788\n",
       "DR2.STRIPE82-0113.055435 318.21969627358584   -0.365240189545556\n",
       "DR2.STRIPE82-0113.055436  318.1575017905793  -0.3679802447775917\n",
       "DR2.STRIPE82-0113.055437 319.11935711399275  -0.3627165752261854\n",
       "DR2.STRIPE82-0113.055438  318.3461767424216 -0.36276942094172476"
      ]
     },
     "execution_count": 71,
     "metadata": {},
     "output_type": "execute_result"
    }
   ],
   "source": [
    "res\n",
    "#Diz que posição tem estrelas\n",
    "#usar a posição para construir as mascaras de maneira automatica."
   ]
  },
  {
   "cell_type": "code",
   "execution_count": 73,
   "metadata": {
    "scrolled": true
   },
   "outputs": [
    {
     "data": {
      "text/plain": [
       "['ID', 'RA', 'DEC']"
      ]
     },
     "execution_count": 73,
     "metadata": {},
     "output_type": "execute_result"
    }
   ],
   "source": [
    "list(res.columns)\n"
   ]
  },
  {
   "cell_type": "code",
   "execution_count": 13,
   "metadata": {},
   "outputs": [],
   "source": [
    "My_Query = f\"\"\"SELECT det.ID, det.ra, det.dec, sgq.model_flag, sgq.PROB_STAR\n",
    "               FROM dr2.detection_image as det\n",
    "               JOIN dr2_vacs.star_galaxy_quasar as sgq ON (sgq.ID = det.ID)\n",
    "               WHERE sgq.PROB_STAR>0.8\"\"\"\n"
   ]
  },
  {
   "cell_type": "code",
   "execution_count": 14,
   "metadata": {},
   "outputs": [
    {
     "name": "stdout",
     "output_type": "stream",
     "text": [
      "finished\n"
     ]
    }
   ],
   "source": [
    "Result = conn.query(My_Query)"
   ]
  },
  {
   "cell_type": "code",
   "execution_count": 15,
   "metadata": {},
   "outputs": [
    {
     "data": {
      "text/html": [
       "<i>Table length=5</i>\n",
       "<table id=\"table1599815497712\" class=\"table-striped table-bordered table-condensed\">\n",
       "<thead><tr><th>ID</th><th>RA</th><th>DEC</th><th>model_flag</th><th>PROB_STAR</th></tr></thead>\n",
       "<thead><tr><th>bytes24</th><th>float64</th><th>float64</th><th>int64</th><th>float64</th></tr></thead>\n",
       "<tr><td>DR2.SPLUS-s02s02.030119</td><td>325.8991916193842</td><td>-1.2974507493112588</td><td>0</td><td>1.0</td></tr>\n",
       "<tr><td>DR2.SPLUS-s02s02.030923</td><td>326.53188027104017</td><td>-1.2750540542467692</td><td>0</td><td>0.87</td></tr>\n",
       "<tr><td>DR2.SPLUS-s02s02.031072</td><td>326.43062767236523</td><td>-1.270938089757464</td><td>1</td><td>0.99</td></tr>\n",
       "<tr><td>DR2.SPLUS-s02s02.031443</td><td>325.4304072564945</td><td>-1.2603248822676614</td><td>0</td><td>1.0</td></tr>\n",
       "<tr><td>DR2.SPLUS-s02s02.033083</td><td>326.5812149102365</td><td>-1.2153678306478275</td><td>1</td><td>0.9</td></tr>\n",
       "</table>"
      ],
      "text/plain": [
       "<Table length=5>\n",
       "           ID                    RA         ... model_flag PROB_STAR\n",
       "        bytes24               float64       ...   int64     float64 \n",
       "------------------------ ------------------ ... ---------- ---------\n",
       "DR2.SPLUS-s02s02.030119   325.8991916193842 ...          0       1.0\n",
       "DR2.SPLUS-s02s02.030923  326.53188027104017 ...          0      0.87\n",
       "DR2.SPLUS-s02s02.031072  326.43062767236523 ...          1      0.99\n",
       "DR2.SPLUS-s02s02.031443   325.4304072564945 ...          0       1.0\n",
       "DR2.SPLUS-s02s02.033083   326.5812149102365 ...          1       0.9"
      ]
     },
     "execution_count": 15,
     "metadata": {},
     "output_type": "execute_result"
    }
   ],
   "source": [
    "Result[:5]"
   ]
  },
  {
   "cell_type": "code",
   "execution_count": null,
   "metadata": {},
   "outputs": [],
   "source": []
  }
 ],
 "metadata": {
  "kernelspec": {
   "display_name": "Python 3",
   "language": "python",
   "name": "python3"
  },
  "language_info": {
   "codemirror_mode": {
    "name": "ipython",
    "version": 3
   },
   "file_extension": ".py",
   "mimetype": "text/x-python",
   "name": "python",
   "nbconvert_exporter": "python",
   "pygments_lexer": "ipython3",
   "version": "3.8.5"
  }
 },
 "nbformat": 4,
 "nbformat_minor": 4
}
