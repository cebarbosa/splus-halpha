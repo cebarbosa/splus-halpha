{
 "cells": [
  {
   "cell_type": "code",
   "execution_count": 55,
   "metadata": {},
   "outputs": [],
   "source": [
    "import getpass\n",
    "import splusdata \n",
    "import pandas as pd\n",
    "from astropy.table import Table\n"
   ]
  },
  {
   "cell_type": "code",
   "execution_count": 56,
   "metadata": {},
   "outputs": [
    {
     "name": "stdout",
     "output_type": "stream",
     "text": [
      "········\n"
     ]
    }
   ],
   "source": [
    "login = \"jessica\"\n",
    "password = getpass.getpass()"
   ]
  },
  {
   "cell_type": "code",
   "execution_count": 59,
   "metadata": {},
   "outputs": [],
   "source": [
    "conn = splusdata.connect(login, password)"
   ]
  },
  {
   "cell_type": "code",
   "execution_count": 60,
   "metadata": {},
   "outputs": [
    {
     "name": "stdout",
     "output_type": "stream",
     "text": [
      "finished\n"
     ]
    }
   ],
   "source": [
    "table = conn.query('select id, ra, dec from dr2.detection_image where ra + dec > 200')"
   ]
  },
  {
   "cell_type": "code",
   "execution_count": 61,
   "metadata": {},
   "outputs": [
    {
     "data": {
      "text/html": [
       "<i>Table length=500000</i>\n",
       "<table id=\"table2915110959568\" class=\"table-striped table-bordered table-condensed\">\n",
       "<thead><tr><th>ID</th><th>RA</th><th>DEC</th></tr></thead>\n",
       "<thead><tr><th>bytes24</th><th>float64</th><th>float64</th></tr></thead>\n",
       "<tr><td>DR2.STRIPE82-0091.093504</td><td>303.35531014175706</td><td>-0.3935554356873774</td></tr>\n",
       "<tr><td>DR2.STRIPE82-0091.093505</td><td>303.7534669444211</td><td>-0.39357828307352677</td></tr>\n",
       "<tr><td>DR2.STRIPE82-0091.093506</td><td>303.6059700363377</td><td>-0.3936266543436353</td></tr>\n",
       "<tr><td>DR2.STRIPE82-0091.093507</td><td>303.2634363980325</td><td>-0.39355295501563686</td></tr>\n",
       "<tr><td>DR2.STRIPE82-0091.093508</td><td>303.0625233172216</td><td>-0.3940974270590941</td></tr>\n",
       "<tr><td>DR2.STRIPE82-0091.093509</td><td>303.42295020403196</td><td>-0.39351335978127516</td></tr>\n",
       "<tr><td>DR2.STRIPE82-0091.093510</td><td>303.20549281954806</td><td>-0.3935284954064933</td></tr>\n",
       "<tr><td>DR2.STRIPE82-0091.093511</td><td>303.91266995753483</td><td>-0.39350409915671153</td></tr>\n",
       "<tr><td>DR2.STRIPE82-0091.093512</td><td>302.8934982879556</td><td>-0.39349746382876316</td></tr>\n",
       "<tr><td>DR2.STRIPE82-0091.093513</td><td>302.6327175384185</td><td>-0.39348468936720604</td></tr>\n",
       "<tr><td>...</td><td>...</td><td>...</td></tr>\n",
       "<tr><td>DR2.STRIPE82-0113.055429</td><td>319.2813010952531</td><td>-0.3628436949080786</td></tr>\n",
       "<tr><td>DR2.STRIPE82-0113.055430</td><td>319.0371981686546</td><td>-0.36285321665738635</td></tr>\n",
       "<tr><td>DR2.STRIPE82-0113.055431</td><td>318.99821190397546</td><td>-0.3628509936603487</td></tr>\n",
       "<tr><td>DR2.STRIPE82-0113.055432</td><td>318.11588955191843</td><td>-0.3628107562880178</td></tr>\n",
       "<tr><td>DR2.STRIPE82-0113.055433</td><td>318.29820257209593</td><td>-0.3629528857590011</td></tr>\n",
       "<tr><td>DR2.STRIPE82-0113.055434</td><td>318.31742839669533</td><td>-0.3626548007545788</td></tr>\n",
       "<tr><td>DR2.STRIPE82-0113.055435</td><td>318.21969627358584</td><td>-0.365240189545556</td></tr>\n",
       "<tr><td>DR2.STRIPE82-0113.055436</td><td>318.1575017905793</td><td>-0.3679802447775917</td></tr>\n",
       "<tr><td>DR2.STRIPE82-0113.055437</td><td>319.11935711399275</td><td>-0.3627165752261854</td></tr>\n",
       "<tr><td>DR2.STRIPE82-0113.055438</td><td>318.3461767424216</td><td>-0.36276942094172476</td></tr>\n",
       "</table>"
      ],
      "text/plain": [
       "<Table length=500000>\n",
       "           ID                    RA                 DEC         \n",
       "        bytes24               float64             float64       \n",
       "------------------------ ------------------ --------------------\n",
       "DR2.STRIPE82-0091.093504 303.35531014175706  -0.3935554356873774\n",
       "DR2.STRIPE82-0091.093505  303.7534669444211 -0.39357828307352677\n",
       "DR2.STRIPE82-0091.093506  303.6059700363377  -0.3936266543436353\n",
       "DR2.STRIPE82-0091.093507  303.2634363980325 -0.39355295501563686\n",
       "DR2.STRIPE82-0091.093508  303.0625233172216  -0.3940974270590941\n",
       "DR2.STRIPE82-0091.093509 303.42295020403196 -0.39351335978127516\n",
       "DR2.STRIPE82-0091.093510 303.20549281954806  -0.3935284954064933\n",
       "DR2.STRIPE82-0091.093511 303.91266995753483 -0.39350409915671153\n",
       "DR2.STRIPE82-0091.093512  302.8934982879556 -0.39349746382876316\n",
       "DR2.STRIPE82-0091.093513  302.6327175384185 -0.39348468936720604\n",
       "                     ...                ...                  ...\n",
       "DR2.STRIPE82-0113.055429  319.2813010952531  -0.3628436949080786\n",
       "DR2.STRIPE82-0113.055430  319.0371981686546 -0.36285321665738635\n",
       "DR2.STRIPE82-0113.055431 318.99821190397546  -0.3628509936603487\n",
       "DR2.STRIPE82-0113.055432 318.11588955191843  -0.3628107562880178\n",
       "DR2.STRIPE82-0113.055433 318.29820257209593  -0.3629528857590011\n",
       "DR2.STRIPE82-0113.055434 318.31742839669533  -0.3626548007545788\n",
       "DR2.STRIPE82-0113.055435 318.21969627358584   -0.365240189545556\n",
       "DR2.STRIPE82-0113.055436  318.1575017905793  -0.3679802447775917\n",
       "DR2.STRIPE82-0113.055437 319.11935711399275  -0.3627165752261854\n",
       "DR2.STRIPE82-0113.055438  318.3461767424216 -0.36276942094172476"
      ]
     },
     "execution_count": 61,
     "metadata": {},
     "output_type": "execute_result"
    }
   ],
   "source": [
    "table"
   ]
  },
  {
   "cell_type": "code",
   "execution_count": 62,
   "metadata": {},
   "outputs": [],
   "source": [
    "tab = pd.read_csv('C:/Users/amori/Dropbox/splus-halpha (1)/tables/Fornax_Sample_3arcsec_pz_zs_class_xmatch.csv')"
   ]
  },
  {
   "cell_type": "markdown",
   "metadata": {},
   "source": [
    "result_table = conn.query(\"\"\"SELECT pz.ID, pz.zml, upl.ra, upl.dec \n",
    "                          upl.catalogue FROM TAP_UPLOAD.upload AS upl \n",
    "                          LEFT OUTER JOIN \"dr2_vacs\".\"photoz\" AS pz ON upl.id = pz.id\"\"\", tab)\n",
    "                         "
   ]
  },
  {
   "cell_type": "code",
   "execution_count": 63,
   "metadata": {},
   "outputs": [],
   "source": [
    "res = conn.get_last_result()"
   ]
  },
  {
   "cell_type": "code",
   "execution_count": 71,
   "metadata": {},
   "outputs": [
    {
     "data": {
      "text/html": [
       "<i>Table length=500000</i>\n",
       "<table id=\"table2915110959568\" class=\"table-striped table-bordered table-condensed\">\n",
       "<thead><tr><th>ID</th><th>RA</th><th>DEC</th></tr></thead>\n",
       "<thead><tr><th>bytes24</th><th>float64</th><th>float64</th></tr></thead>\n",
       "<tr><td>DR2.STRIPE82-0091.093504</td><td>303.35531014175706</td><td>-0.3935554356873774</td></tr>\n",
       "<tr><td>DR2.STRIPE82-0091.093505</td><td>303.7534669444211</td><td>-0.39357828307352677</td></tr>\n",
       "<tr><td>DR2.STRIPE82-0091.093506</td><td>303.6059700363377</td><td>-0.3936266543436353</td></tr>\n",
       "<tr><td>DR2.STRIPE82-0091.093507</td><td>303.2634363980325</td><td>-0.39355295501563686</td></tr>\n",
       "<tr><td>DR2.STRIPE82-0091.093508</td><td>303.0625233172216</td><td>-0.3940974270590941</td></tr>\n",
       "<tr><td>DR2.STRIPE82-0091.093509</td><td>303.42295020403196</td><td>-0.39351335978127516</td></tr>\n",
       "<tr><td>DR2.STRIPE82-0091.093510</td><td>303.20549281954806</td><td>-0.3935284954064933</td></tr>\n",
       "<tr><td>DR2.STRIPE82-0091.093511</td><td>303.91266995753483</td><td>-0.39350409915671153</td></tr>\n",
       "<tr><td>DR2.STRIPE82-0091.093512</td><td>302.8934982879556</td><td>-0.39349746382876316</td></tr>\n",
       "<tr><td>DR2.STRIPE82-0091.093513</td><td>302.6327175384185</td><td>-0.39348468936720604</td></tr>\n",
       "<tr><td>...</td><td>...</td><td>...</td></tr>\n",
       "<tr><td>DR2.STRIPE82-0113.055429</td><td>319.2813010952531</td><td>-0.3628436949080786</td></tr>\n",
       "<tr><td>DR2.STRIPE82-0113.055430</td><td>319.0371981686546</td><td>-0.36285321665738635</td></tr>\n",
       "<tr><td>DR2.STRIPE82-0113.055431</td><td>318.99821190397546</td><td>-0.3628509936603487</td></tr>\n",
       "<tr><td>DR2.STRIPE82-0113.055432</td><td>318.11588955191843</td><td>-0.3628107562880178</td></tr>\n",
       "<tr><td>DR2.STRIPE82-0113.055433</td><td>318.29820257209593</td><td>-0.3629528857590011</td></tr>\n",
       "<tr><td>DR2.STRIPE82-0113.055434</td><td>318.31742839669533</td><td>-0.3626548007545788</td></tr>\n",
       "<tr><td>DR2.STRIPE82-0113.055435</td><td>318.21969627358584</td><td>-0.365240189545556</td></tr>\n",
       "<tr><td>DR2.STRIPE82-0113.055436</td><td>318.1575017905793</td><td>-0.3679802447775917</td></tr>\n",
       "<tr><td>DR2.STRIPE82-0113.055437</td><td>319.11935711399275</td><td>-0.3627165752261854</td></tr>\n",
       "<tr><td>DR2.STRIPE82-0113.055438</td><td>318.3461767424216</td><td>-0.36276942094172476</td></tr>\n",
       "</table>"
      ],
      "text/plain": [
       "<Table length=500000>\n",
       "           ID                    RA                 DEC         \n",
       "        bytes24               float64             float64       \n",
       "------------------------ ------------------ --------------------\n",
       "DR2.STRIPE82-0091.093504 303.35531014175706  -0.3935554356873774\n",
       "DR2.STRIPE82-0091.093505  303.7534669444211 -0.39357828307352677\n",
       "DR2.STRIPE82-0091.093506  303.6059700363377  -0.3936266543436353\n",
       "DR2.STRIPE82-0091.093507  303.2634363980325 -0.39355295501563686\n",
       "DR2.STRIPE82-0091.093508  303.0625233172216  -0.3940974270590941\n",
       "DR2.STRIPE82-0091.093509 303.42295020403196 -0.39351335978127516\n",
       "DR2.STRIPE82-0091.093510 303.20549281954806  -0.3935284954064933\n",
       "DR2.STRIPE82-0091.093511 303.91266995753483 -0.39350409915671153\n",
       "DR2.STRIPE82-0091.093512  302.8934982879556 -0.39349746382876316\n",
       "DR2.STRIPE82-0091.093513  302.6327175384185 -0.39348468936720604\n",
       "                     ...                ...                  ...\n",
       "DR2.STRIPE82-0113.055429  319.2813010952531  -0.3628436949080786\n",
       "DR2.STRIPE82-0113.055430  319.0371981686546 -0.36285321665738635\n",
       "DR2.STRIPE82-0113.055431 318.99821190397546  -0.3628509936603487\n",
       "DR2.STRIPE82-0113.055432 318.11588955191843  -0.3628107562880178\n",
       "DR2.STRIPE82-0113.055433 318.29820257209593  -0.3629528857590011\n",
       "DR2.STRIPE82-0113.055434 318.31742839669533  -0.3626548007545788\n",
       "DR2.STRIPE82-0113.055435 318.21969627358584   -0.365240189545556\n",
       "DR2.STRIPE82-0113.055436  318.1575017905793  -0.3679802447775917\n",
       "DR2.STRIPE82-0113.055437 319.11935711399275  -0.3627165752261854\n",
       "DR2.STRIPE82-0113.055438  318.3461767424216 -0.36276942094172476"
      ]
     },
     "execution_count": 71,
     "metadata": {},
     "output_type": "execute_result"
    }
   ],
   "source": [
    "res\n",
    "#Diz que posição tem estrelas\n",
    "#usar a posição para construir as mascaras de maneira automatica."
   ]
  },
  {
   "cell_type": "code",
   "execution_count": 73,
   "metadata": {
    "scrolled": true
   },
   "outputs": [
    {
     "data": {
      "text/plain": [
       "['ID', 'RA', 'DEC']"
      ]
     },
     "execution_count": 73,
     "metadata": {},
     "output_type": "execute_result"
    }
   ],
   "source": [
    "list(res.columns)\n"
   ]
  },
  {
   "cell_type": "code",
   "execution_count": null,
   "metadata": {},
   "outputs": [],
   "source": [
    "print"
   ]
  }
 ],
 "metadata": {
  "kernelspec": {
   "display_name": "Python 3",
   "language": "python",
   "name": "python3"
  },
  "language_info": {
   "codemirror_mode": {
    "name": "ipython",
    "version": 3
   },
   "file_extension": ".py",
   "mimetype": "text/x-python",
   "name": "python",
   "nbconvert_exporter": "python",
   "pygments_lexer": "ipython3",
   "version": "3.8.5"
  }
 },
 "nbformat": 4,
 "nbformat_minor": 4
}
